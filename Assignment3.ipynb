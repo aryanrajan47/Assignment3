{
 "cells": [
  {
   "cell_type": "code",
   "execution_count": 6,
   "id": "b54a80b2-d8a8-4a41-a915-b4e5baffcbe1",
   "metadata": {},
   "outputs": [
    {
     "name": "stdout",
     "output_type": "stream",
     "text": [
      "Original list of tuples : [('Sachin Tendulkar', 34357), ('Ricky Ponting', 27483), ('Jack Kallis', 25534), ('Virat Kohli', 24936)]\n",
      "Sorting the list of tuples based on the int value : [('Virat Kohli', 24936), ('Jack Kallis', 25534), ('Ricky Ponting', 27483), ('Sachin Tendulkar', 34357)]\n"
     ]
    }
   ],
   "source": [
    "# QUESTION 1\n",
    "\n",
    "li = [(\"Sachin Tendulkar\",34357),(\"Ricky Ponting\",27483),(\"Jack Kallis\",25534),(\"Virat Kohli\",24936)]\n",
    "print(\"Original list of tuples :\",li)\n",
    "li.sort(key=lambda x : x[1])\n",
    "print(\"Sorting the list of tuples based on the int value :\",li)   \n"
   ]
  },
  {
   "cell_type": "code",
   "execution_count": 2,
   "id": "c37d94a0-7378-4894-9557-a401a0cd8f52",
   "metadata": {},
   "outputs": [
    {
     "name": "stdout",
     "output_type": "stream",
     "text": [
      "[1, 4, 9, 16, 25, 36, 49, 64, 81, 100]\n"
     ]
    }
   ],
   "source": [
    "# QUESTION 2\n",
    "\n",
    "l1 = [1,2,3,4,5,6,7,8,9,10]\n",
    "sqr = list(map(lambda x : x**2 , l1)) \n",
    "print(sqr) "
   ]
  },
  {
   "cell_type": "code",
   "execution_count": 1,
   "id": "b36905d2-58db-4a56-b8be-fa2d010035bf",
   "metadata": {},
   "outputs": [
    {
     "name": "stdout",
     "output_type": "stream",
     "text": [
      "('1', '2', '3', '4', '5', '6', '7', '8', '9', '10')\n"
     ]
    }
   ],
   "source": [
    "# QUESTION 3\n",
    "\n",
    "l1 = [1,2,3,4,5,6,7,8,9,10]\n",
    "tp = tuple(map(str,l1))\n",
    "print(tp) "
   ]
  },
  {
   "cell_type": "code",
   "execution_count": 20,
   "id": "bef45f8b-5743-4a49-b137-a7a03a47fe0d",
   "metadata": {},
   "outputs": [
    {
     "name": "stdout",
     "output_type": "stream",
     "text": [
      "[1, 2, 3, 4, 5, 6, 7, 8, 9, 10, 11, 12, 13, 14, 15, 16, 17, 18, 19, 20, 21, 22, 23, 24, 25]\n",
      "15511210043330985984000000\n"
     ]
    }
   ],
   "source": [
    "# QUESTION 4\n",
    "l2 = []\n",
    "for i in range(1,26):\n",
    "    l2.append(i)\n",
    "print(l2)  \n",
    "from functools import reduce \n",
    "product = reduce(lambda x,y : x*y , l2) \n",
    "print(product)  \n",
    "\n"
   ]
  },
  {
   "cell_type": "code",
   "execution_count": 5,
   "id": "e4329afd-9b40-4758-a5f7-c3f35b11320e",
   "metadata": {},
   "outputs": [
    {
     "name": "stdout",
     "output_type": "stream",
     "text": [
      "Divisible by 6 : [6, 60, 90, 120]\n",
      "Divisible by 2 : [2, 6, 60, 90, 120, 46]\n",
      "Divisible by 3 : [3, 6, 9, 27, 60, 90, 120]\n"
     ]
    }
   ],
   "source": [
    "# QUESTION 5\n",
    "l3 = [2,3,6,9,27,60,90,120,55,46]\n",
    "div6 = list(filter(lambda x : x % 2 == 0 and x % 3 == 0 , l3))    \n",
    "div2 = list(filter(lambda x : x % 2 == 0 , l3))  \n",
    "div3 = list(filter(lambda x : x % 3 == 0 , l3)) \n",
    "print(\"Divisible by 6 :\",div6)  \n",
    "print(\"Divisible by 2 :\",div2)  \n",
    "print(\"Divisible by 3 :\",div3)  \n"
   ]
  },
  {
   "cell_type": "code",
   "execution_count": 7,
   "id": "e2df6cac-56ac-4e0e-9ae2-5f1d1dc0ef82",
   "metadata": {},
   "outputs": [
    {
     "name": "stdout",
     "output_type": "stream",
     "text": [
      "Original list of strings : ['python', 'php', 'aba', 'radar', 'level']\n",
      "List of Palindrome Numbers : ['php', 'aba', 'radar', 'level']\n"
     ]
    }
   ],
   "source": [
    "# QUESTION 6\n",
    "str = ['python','php','aba','radar','level']\n",
    "print(\"Original list of strings :\",str)\n",
    "palin = list(filter(lambda x : ( x == \"\".join(reversed(x))) , str ))  \n",
    "print(\"List of Palindrome Numbers :\",palin)  \n"
   ]
  }
 ],
 "metadata": {
  "kernelspec": {
   "display_name": "Python 3 (ipykernel)",
   "language": "python",
   "name": "python3"
  },
  "language_info": {
   "codemirror_mode": {
    "name": "ipython",
    "version": 3
   },
   "file_extension": ".py",
   "mimetype": "text/x-python",
   "name": "python",
   "nbconvert_exporter": "python",
   "pygments_lexer": "ipython3",
   "version": "3.10.6"
  }
 },
 "nbformat": 4,
 "nbformat_minor": 5
}
